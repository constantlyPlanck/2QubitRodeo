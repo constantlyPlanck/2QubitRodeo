{
 "cells": [
  {
   "cell_type": "code",
   "execution_count": 31,
   "outputs": [
    {
     "name": "stderr",
     "output_type": "stream",
     "text": [
      "ibmqfactory.load_account:WARNING:2022-08-02 23:35:23,559: Credentials are already in use. The existing account in the session will be replaced.\n"
     ]
    }
   ],
   "source": [
    "import numpy as np\n",
    "%matplotlib inline\n",
    "\n",
    "import importlib\n",
    "import sys\n",
    "import pickle\n",
    "from RodeoMethods import *\n",
    "importlib.reload(sys.modules['RodeoMethods'])\n",
    "from OutdatedMethods import search_spectrum, process_data\n",
    "from qiskit import IBMQ\n",
    "from qiskit.circuit import QuantumCircuit\n",
    "from qiskit.compiler import transpile\n",
    "import pandas as pd\n",
    "import itertools\n",
    "\n",
    "import random\n"
   ],
   "metadata": {
    "collapsed": false,
    "pycharm": {
     "name": "#%%\n"
    }
   }
  },
  {
   "cell_type": "code",
   "execution_count": 32,
   "outputs": [],
   "source": [
    "df = pd.read_excel(\"C:/Users/Max/Documents/RSI Project/Quantum Computer Implementation/2 Qubit Data.xlsx\", sheet_name=[0, 1, 2], header=0, index_col=None, usecols=[0, 1, 3, 4, 6, 7, 9, 10], nrows=22, dtype=np.float64)\n",
    "quantinuum = []\n",
    "perth3 = []\n",
    "perth5 = []\n",
    "# print(df[0],\"\\n\", df[1],\"\\n\", df[2])\n",
    "energyColName = \"Energies{suffix}\"\n",
    "countsColName = \"Counts{suffix}\"\n",
    "\n",
    "for scan, dataSource in zip(df, [quantinuum, perth3, perth5]):\n",
    "    for i in range(4):\n",
    "        if i == 0:\n",
    "            energyHeader = energyColName.format(suffix=\"\")\n",
    "            countsHeader = countsColName.format(suffix=\"\")\n",
    "        else:\n",
    "            energyHeader = energyColName.format(suffix=\".{num}\".format(num=i))\n",
    "            countsHeader = countsColName.format(suffix=\".{num}\".format(num=i))\n",
    "        dataSource.append(dict(zip(df[scan][energyHeader].tolist(), df[scan][countsHeader].tolist())))"
   ],
   "metadata": {
    "collapsed": false,
    "pycharm": {
     "name": "#%%\n"
    }
   }
  },
  {
   "cell_type": "code",
   "execution_count": 72,
   "outputs": [
    {
     "name": "stdout",
     "output_type": "stream",
     "text": [
      "{-4.125: 13.0, -4.11309523809523: 9.0, -4.10119047619047: 11.0, -4.08928571428571: 8.0, -4.07738095238095: 1.0, -4.06547619047619: 12.0, -4.05357142857142: 38.0, -4.04166666666666: 26.0, -4.0297619047619: 100.0, -4.01785714285714: 158.0, -4.00595238095238: 248.0, -3.99404761904761: 253.0, -3.98214285714285: 221.0, -3.97023809523809: 86.0, -3.95833333333333: 68.0, -3.94642857142857: 10.0, -3.9345238095238: 12.0, -3.92261904761904: 60.0, -3.91071428571428: 2.0, -3.89880952380952: 38.0, -3.88690476190476: 7.0, -3.875: 6.0}\n",
      "-3.997883738759228\n",
      "11\n",
      "{-4.0297619047619: 100.0, -4.01785714285714: 158.0, -4.00595238095238: 248.0, -3.99404761904761: 253.0, -3.98214285714285: 221.0, -3.97023809523809: 86.0}\n"
     ]
    }
   ],
   "source": [
    "def get_nearest_elements(dualDict, sides, cycles):\n",
    "    center = find_single_peak(list(dualDict.keys()), list(dualDict.values()), list(dualDict.keys())[10], 1024*pow(2, -cycles), 5, printResults=False)[0]\n",
    "    print(center)\n",
    "    keys = list(dualDict.keys())\n",
    "    modeIndex = closest_index(list(dualDict.keys()), center)\n",
    "    print(modeIndex)\n",
    "    rtnKeys = keys[(modeIndex - sides):(modeIndex + sides)]\n",
    "    rtnDict = dict()\n",
    "    for key in rtnKeys:\n",
    "        rtnDict[key] = dualDict[key]\n",
    "    return rtnDict\n",
    "print(quantinuum[0])\n",
    "print(get_nearest_elements(quantinuum[0], 3, 5))\n",
    "\n",
    "def get_uncertainties(counts, n):\n",
    "    uncertainties = list()\n",
    "    for count in counts:\n",
    "        frac = count/n\n",
    "        uncertainties.append(pow((frac * (1-frac))/n, 0.5) * n)\n",
    "    return uncertainties\n",
    "\n",
    "def make_noisy(counts, uncertainties):\n",
    "    noisyCounts = list()\n",
    "    for count, error in zip(counts, uncertainties):\n",
    "        noisyCounts.append(count + random.normalvariate(0, error))\n",
    "    return noisyCounts"
   ],
   "metadata": {
    "collapsed": false,
    "pycharm": {
     "name": "#%%\n"
    }
   }
  },
  {
   "cell_type": "code",
   "execution_count": null,
   "outputs": [],
   "source": [
    "dataSet = quantinuum\n",
    "cycles = 5\n",
    "outlierThreshold = 1\n",
    "\n",
    "allDeltas = list()\n",
    "for data, exact in zip(dataSet, [-4, -1, 1, 4]):\n",
    "    fullFit = find_single_peak(list(data.keys()), list(data.values()), exact, 1024*pow(2, -cycles), 12, printResults=False)\n",
    "    deltas = [abs(actual - expected) for actual, expected in zip(list(data.values()), fullFit[3])]\n",
    "    allDeltas.append(deltas)\n",
    "    print(deltas)\n",
    "    print(np.average(deltas), np.std(deltas))\n",
    "\n",
    "outlierIndices = list()\n",
    "for deltaSet in allDeltas:\n",
    "    std = np.std(deltaSet)\n",
    "    mean = np.mean(deltaSet)\n",
    "    indices = list()\n",
    "    for index, delta in enumerate(deltaSet):\n",
    "        if (delta - mean - std*outlierThreshold) > 0:\n",
    "            indices.append(index)\n",
    "    print(indices)\n",
    "    outlierIndices.append(indices)\n",
    "\n",
    "# print(outlierIndices)"
   ],
   "metadata": {
    "collapsed": false,
    "pycharm": {
     "name": "#%%\n"
    }
   }
  },
  {
   "cell_type": "code",
   "execution_count": null,
   "outputs": [],
   "source": [
    "random.seed(a=1651464000)\n",
    "\n",
    "centersInfo = list()\n",
    "centers = list()\n",
    "\n",
    "maxRand = 0\n",
    "for i in range(1):\n",
    "    endDrop = random.randint(0, maxRand)\n",
    "    startDrop = random.randint(0, maxRand)\n",
    "    randomDrop = random.randint(0, maxRand)\n",
    "    trimmedList = dict(itertools.islice(dataSet[0].items(), startDrop, 22-endDrop))\n",
    "    sampled = dict(random.sample(list(trimmedList.items()), len(trimmedList) - randomDrop))\n",
    "    # print(sampled)\n",
    "    results = find_single_peak(list(sampled.keys()), list(sampled.values()), -4, 1024*pow(2, -cycles), 12, printResults=True)\n",
    "    centersInfo.append([endDrop, startDrop, results[0]])\n",
    "    centers.append(results[0])\n",
    "    print(results)\n",
    "print(centers)\n",
    "print(np.average(centers), np.std(centers))"
   ],
   "metadata": {
    "collapsed": false,
    "pycharm": {
     "name": "#%%\n"
    }
   }
  },
  {
   "cell_type": "code",
   "execution_count": 71,
   "outputs": [
    {
     "name": "stdout",
     "output_type": "stream",
     "text": [
      "[[6, 2, -3.9977382424664434], [5, 0, -3.99774582971508], [4, 6, -3.997750232335008], [3, 5, -3.99774521108816], [1, 9, -3.997395413752194], [4, 2, -3.9977440307170946], [4, 7, -3.9977429289519515], [9, 1, -3.996151545185863], [7, 0, -3.9976570516660477], [9, 0, -3.996151545185863], [2, 2, -3.997744323562388], [10, 6, -3.999108442348111], [6, 9, -3.997393573315903], [2, 7, -3.997743213720593], [8, 7, -3.9978109918583042], [6, 2, -3.9977382424664434], [2, 4, -3.997744106845071], [3, 0, -3.997744323562388], [1, 1, -3.997744323562388], [6, 7, -3.9977353980385937], [7, 0, -3.9976570516660477], [3, 2, -3.997744323562388], [7, 1, -3.9976570516660477], [0, 2, -3.997744323562388], [7, 3, -3.997657227797127], [0, 2, -3.997744323562388], [4, 5, -3.997744863324941], [5, 7, -3.997744253334744], [5, 10, -3.9970123607866244], [0, 6, -3.99775023348928]]\n"
     ]
    }
   ],
   "source": [
    "print(centersInfo)"
   ],
   "metadata": {
    "collapsed": false,
    "pycharm": {
     "name": "#%%\n"
    }
   }
  },
  {
   "cell_type": "code",
   "execution_count": 102,
   "outputs": [
    {
     "name": "stdout",
     "output_type": "stream",
     "text": [
      "-3.997883738759228\n",
      "11\n",
      "-1.010053713353513\n",
      "10\n",
      "1.0038181951519822\n",
      "11\n",
      "4.00326432058606\n",
      "11\n",
      "-3.9952034180499645\n",
      "7\n",
      "-0.9839189825995546\n",
      "16\n",
      "1.0024155117406122\n",
      "7\n",
      "4.010415451010814\n",
      "12\n",
      "-4.000642929186808\n",
      "10\n",
      "-0.9938775909813049\n",
      "11\n",
      "1.001077533333445\n",
      "11\n",
      "3.9996236909961747\n",
      "10\n",
      "{-1.125: 30.0, -1.11309523809523: 10.0, -1.10119047619047: 1.0, -1.08928571428571: 135.0, -1.07738095238095: 14.0, -1.06547619047619: 4.0, -1.05357142857142: 10.0, -1.04166666666666: 114.0, -1.0297619047619: 254.0, -1.01785714285714: 218.0, -1.00595238095238: 224.0, -0.994047619047619: 226.0, -0.982142857142857: 135.0, -0.970238095238095: 37.0, -0.958333333333333: 141.0, -0.946428571428571: 22.0, -0.934523809523809: 20.0, -0.922619047619047: 2.0, -0.910714285714285: 5.0, -0.898809523809523: 19.0, -0.886904761904761: 3.0, -0.875: 92.0}\n",
      "[{-4.04166666666666: 26.0, -4.0297619047619: 100.0, -4.01785714285714: 158.0, -4.00595238095238: 248.0, -3.99404761904761: 253.0, -3.98214285714285: 221.0, -3.97023809523809: 86.0, -3.95833333333333: 68.0}, [5.0338696596157515, 9.499177595981665, 11.55945905957541, 13.709029870855195, 13.801855344028933, 13.164486732778457, 8.875660186712873, 7.967708265241644]]\n",
      "[{-1.05357142857142: 10.0, -1.04166666666666: 114.0, -1.0297619047619: 254.0, -1.01785714285714: 218.0, -1.00595238095238: 224.0, -0.994047619047619: 226.0, -0.982142857142857: 135.0, -0.970238095238095: 37.0}, [3.1467989687935263, 10.065217024485861, 13.82013363719758, 13.099230654889622, 13.228756555322953, 13.271062269087581, 10.825994108510313, 5.9718578296456455]]\n",
      "[{0.958333333333333: 96.0, 0.970238095238095: 89.0, 0.982142857142857: 168.0, 0.994047619047619: 247.0, 1.00595238095238: 261.0, 1.01785714285714: 257.0, 1.0297619047619: 131.0, 1.04166666666666: 83.0}, [9.327379053088816, 9.014690701155532, 11.850632894491332, 13.690175252256635, 13.945450366965565, 13.874401732597338, 10.688368020306, 8.733410613128184]]\n",
      "[{3.95833333333333: 20.0, 3.97023809523809: 70.0, 3.98214285714285: 149.0, 3.99404761904761: 219.0, 4.00595238095238: 245.0, 4.01785714285714: 190.0, 4.0297619047619: 88.0, 4.04166666666666: 80.0}, [4.428247395979588, 8.07557080025926, 11.283587015550507, 13.121093168539732, 13.652173304551184, 12.439698298190354, 8.968695557326049, 8.587782018658833]]\n"
     ]
    }
   ],
   "source": [
    "random.seed(a=1651464000)\n",
    "\n",
    "quantinuumCenter = list()\n",
    "perth3Center = list()\n",
    "perth5Center = list()\n",
    "for cycles, dataSource, centeredData in zip([5, 3, 5], [quantinuum, perth3, perth5], [quantinuumCenter, perth3Center, perth5Center]):\n",
    "    for passData, guess in zip(dataSource, [-4, -1, 1, 4]):\n",
    "        closeElements = get_nearest_elements(passData, 4, cycles)\n",
    "        centeredData.append([closeElements, get_uncertainties(list(closeElements.values()), 1024)])\n",
    "\n",
    "print(quantinuum[1])\n",
    "for i in quantinuumCenter:\n",
    "    print(i)"
   ],
   "metadata": {
    "collapsed": false,
    "pycharm": {
     "name": "#%%\n"
    }
   }
  },
  {
   "cell_type": "code",
   "execution_count": 93,
   "outputs": [
    {
     "name": "stdout",
     "output_type": "stream",
     "text": [
      "[[-3.997510325092948, -3.997280991884971, -3.9980080483941878, -3.998515110337623, -3.9967914775891984, -3.9980925439651953, -3.999562199213335, -3.9981495521826833, -3.9978229802920993, -3.9990224851942586, -3.9997055153936145, -3.997802147734636, -3.9975810055482524, -3.997400474545791, -3.999492654879935, -3.997389945141901, -3.9956836419491673, -3.9982482334617693, -3.999516580216265, -3.9979829611443956, -3.9972378639995707, -3.998394048089777, -3.9970499706807074, -3.9973767762646366, -3.9966635833739717, -4.000006942355118, -3.997770197213062, -3.9978773949339015, -3.9986851906392866, -3.9983304803523136, -3.998879550385861, -3.997892742538775, -3.998397408052216, -3.9984862886397163, -3.9978444785526706, -3.998867896134268, -3.9974182602745967, -3.997900085029065, -3.997785997745983, -3.9972767322788547, -3.998170313724316, -3.9990251296160544, -3.9992831304893803, -3.996618768168791, -3.9975349293370135, -3.998299031158341, -3.9987626179530134, -3.9981868151719278, -3.9984449293944593, -3.9979131776639427, -3.997507140176859, -3.9975268343744954, -3.9987912589142898, -3.9991784439493587, -3.9976553129748646, -3.998547818456899, -3.9967271456626827, -4.000601818069084, -3.998360540417907, -3.997181802446593, -3.999071061215365, -3.9995247688030475, -3.996343722581166, -3.998606494801053, -3.9967542965845597, -3.997344702302187, -3.998989542238254, -3.997225100130671, -3.998233966873275, -3.9964028618297114, -3.997674219361488, -3.9989960934700184, -3.998658562742884, -3.99897783413601, -3.9964696629383614, -3.997614923228226, -3.9985651454229982, -3.997124895755872, -3.9971873113651957, -3.9969247609918575, -3.9983434974384116, -3.9983823139424746, -3.99882544399635, -3.995372120158166, -3.9985044634727087, -3.9986807166998926, -3.9968150388181156, -3.9962835558927248, -3.997412547234944, -3.9983063472977523, -3.997330550493099, -3.9972283383750122, -3.998230999862358, -3.997899868491343, -3.9988571642820565, -3.9979921416827335, -3.998447147376972, -3.9992491265086425, -3.9990625259825543, -3.9975922463202913], [-1.0119146543291682, -1.012746153706269, -1.0113235657534814, -1.0134232763700934, -1.0101415387927992, -1.0128036185842186, -1.013134537621005, -1.0119022449652317, -1.0119040176963696, -1.0129364076173522, -1.0115615645753824, -1.0109498842284323, -1.0127465696473044, -1.0121943869333205, -1.0124756780013966, -1.0118076344977478, -1.0118760861599463, -1.0128335997042228, -1.0116040253054328, -1.010886489689093, -1.0119008660411795, -1.0105241860906906, -1.0144435978006214, -1.011116968501288, -1.012818643244256, -1.0124645789109405, -1.01285303296559, -1.014048397037889, -1.0136240716955505, -1.012992124780752, -1.0100713399420453, -1.0116493310853354, -1.0113600488045913, -1.0108222241681613, -1.0108818748319197, -1.0110103587315096, -1.0142926229891074, -1.0148272122628197, -1.0105854366368465, -1.0118237790655389, -1.0125926032246424, -1.0114141067309594, -1.0111861878004536, -1.011499103978998, -1.0149543880336478, -1.0124821243528683, -1.01188567930083, -1.0113868206881267, -1.012646684393367, -1.0105818205181258, -1.0111027711608211, -1.0106998136666876, -1.0117334557533297, -1.013141818686305, -1.0122760973504246, -1.0128102734068567, -1.0126168033458591, -1.0137696121732724, -1.0120980673395286, -1.0144973122444914, -1.0109482266303655, -1.0112407657945073, -1.0118355459834936, -1.0137212020915336, -1.0090370518737815, -1.0129880367572701, -1.010016633635379, -1.0113635710137454, -1.0136121447967787, -1.0149240136295092, -1.01260304390959, -1.0109054557470833, -1.0131540094678662, -1.0089929675464229, -1.0110737928149616, -1.0132666204184737, -1.014484288560249, -1.0131440644138956, -1.012246721604429, -1.0102181006678839, -1.01226878254612, -1.0109309589598783, -1.0108804930076216, -1.0132502671329169, -1.0119080514850536, -1.0129543236802745, -1.0136027335036548, -1.0113997561475832, -1.0135186911969973, -1.0128564322192133, -1.0120397370529248, -1.0111982501297745, -1.0128667347504914, -1.0113572505066166, -1.013576069782778, -1.0126044233432485, -1.0110590652029292, -1.0114261219996696, -1.0101963343192442, -1.0109550328218235], [1.0048663823744637, 1.0048548323852926, 1.0062153843278576, 1.0057550417363763, 1.0049070062563752, 1.005553562258826, 1.0061276371022674, 1.006134285857562, 1.0046556454008662, 1.0038669996338214, 1.002538846135831, 1.0052164485080182, 1.0052579046902532, 1.0040693085196442, 1.0044465070988302, 1.006616854469653, 1.0050552976450193, 1.0055271226316589, 1.0056578191489414, 1.0049058431668123, 1.0048760638960843, 1.0070635532427379, 1.0053068363594964, 1.0051838828389448, 1.00545798930797, 1.005496902363252, 1.004898747823097, 1.0044171954058356, 1.0057506833913987, 1.004732769599495, 1.0056205115583072, 1.0064415476132984, 1.006971303265852, 1.0052278122944012, 1.0055830923036844, 1.0051595938929516, 1.0077381205606457, 1.0051433308953206, 1.0049046151704786, 1.0049318492691706, 1.0060984678811178, 1.0074355623751727, 1.0062175740712265, 1.004356476338764, 1.004923888631307, 1.0040646525372472, 1.002739477236263, 1.004693265730273, 1.0049597979614129, 1.0059622436980413, 1.0067438806144735, 1.0058674772666594, 1.00426454357868, 1.005057138294399, 1.0054279146317389, 1.0043197412702694, 1.0048365764269067, 1.006082486311385, 1.0036866886363884, 1.004111311925967, 1.0043677661434214, 1.0046852521836545, 1.0044854327279584, 1.0061973689808572, 1.0045457138598233, 1.0059165772812808, 1.004768512544521, 1.0050817309839108, 1.0048507668731372, 1.003615734741039, 1.0050803946498363, 1.0066172379945064, 1.0040958004550196, 1.0058050066984365, 1.0054715662303515, 1.0046912552468452, 1.0064848809710192, 1.003643372803014, 1.005437327262655, 1.0050885527430409, 1.0049975589680644, 1.0048297692996389, 1.0062598328318226, 1.0058368170610725, 1.0056313641843926, 1.0052876668682735, 1.006140938766544, 1.0040821023388569, 1.00452570035503, 1.0073210461052482, 1.0052535718192592, 1.0046049722431192, 1.0040986748494767, 1.0060950121712384, 1.0040730110251794, 1.0061762164441896, 1.004851472428713, 1.005600728916977, 1.0060613278012034, 1.00624808101755], [4.003246360694154, 4.003612609648455, 4.002861180261297, 4.005310294578777, 4.006403088438313, 4.005849079434347, 4.005594994007589, 4.006504220665645, 4.006004341799162, 4.003991790752203, 4.004049942129203, 4.002417446797823, 4.006170763553747, 4.005548107216742, 4.00443478968478, 4.004101221749602, 4.00921200848898, 4.000651208649389, 4.003622364812374, 4.005475719946112, 4.004712214136857, 4.003167943772699, 4.004474335722189, 4.005129670432276, 4.004716043211155, 4.004172155940337, 4.003692574046136, 4.004152883760485, 4.002395143812631, 4.005513209960544, 4.0026732608979705, 4.003787082269258, 4.0015050516072534, 4.00443072651064, 4.006158547916365, 4.005622547749798, 4.000513692823592, 4.0033194320792, 4.001933297711897, 4.003980581303333, 4.004423333852712, 4.002951742235897, 4.003938301984107, 4.003344954377101, 4.004066963986368, 4.006964705097627, 4.004886052343153, 4.004796008119701, 4.004587443774184, 4.001704703476003, 4.002901322149487, 4.005137514187444, 4.00238548271963, 4.0059963678033395, 4.00416948905438, 4.002261843866124, 4.003428827969641, 4.002135519476354, 4.006082372027567, 4.002395585475466, 4.0019091432792955, 4.004045154356084, 4.001868224821932, 4.005449482618552, 4.004669981138035, 4.006799099706481, 4.001897420247561, 4.004881838298678, 4.004915147767562, 4.00254101701058, 4.0042061198102585, 4.004958959158007, 4.003357517532988, 4.004946947010698, 4.005180468766166, 4.008007078811898, 4.001634005535572, 4.004582069956681, 4.002368884487922, 4.002045815224558, 4.004978725330061, 4.004543882024546, 4.004369603389156, 4.003478670950075, 4.001933721448433, 4.00508695456168, 4.004477854582637, 4.004143718722872, 4.006072353077017, 4.002466109940888, 4.003110151801278, 4.001652021020465, 4.003072358854606, 4.006085571250885, 4.0016465559739895, 4.004583392265047, 4.002858757645896, 4.004628015864587, 4.006932777286627, 4.000836031606676]]\n"
     ]
    }
   ],
   "source": [
    "random.seed(a=1651464000)\n",
    "trials = 100\n",
    "guesses = [-4, -1, 1, 4]\n",
    "centers = [[], [], [], []]\n",
    "for i in range(trials):\n",
    "    tempData = [0, 0]\n",
    "    for index, passData in enumerate(quantinuumCenter):\n",
    "        tempData[0] = list(passData[0].keys())\n",
    "        tempData[1] = make_noisy(list(passData[0].values()), passData[1])\n",
    "        # print(tempData)\n",
    "        centers[index].append(find_single_peak(tempData[0], tempData[1], guesses[index], 32, 5, printResults=False)[0])\n",
    "\n",
    "print(centers)"
   ],
   "metadata": {
    "collapsed": false,
    "pycharm": {
     "name": "#%%\n"
    }
   }
  },
  {
   "cell_type": "code",
   "execution_count": 95,
   "outputs": [
    {
     "name": "stdout",
     "output_type": "stream",
     "text": [
      "-3.9980152380091556 0.0009376399314705809\n",
      "-1.0121127794106055 0.0012560026062845332\n",
      "1.0052389041268865 0.0009391882242273832\n",
      "4.004068920660865 0.0016374750932756914\n"
     ]
    }
   ],
   "source": [
    "print(np.average(centers[0]), np.std(centers[0]))\n",
    "print(np.average(centers[1]), np.std(centers[1]))\n",
    "print(np.average(centers[2]), np.std(centers[2]))\n",
    "print(np.average(centers[3]), np.std(centers[3]))"
   ],
   "metadata": {
    "collapsed": false,
    "pycharm": {
     "name": "#%%\n"
    }
   }
  },
  {
   "cell_type": "code",
   "execution_count": 99,
   "outputs": [
    {
     "name": "stdout",
     "output_type": "stream",
     "text": [
      "[-1.04166666666666, -1.0297619047619, -1.01785714285714, -1.00595238095238, -0.994047619047619, -0.982142857142857]\n",
      "[114.0, 254.0, 218.0, 224.0, 226.0, 135.0]\n",
      "[10.065217024485861, 13.82013363719758, 13.099230654889622, 13.228756555322953, 13.271062269087581, 10.825994108510313]\n"
     ]
    }
   ],
   "source": [
    "print(list(quantinuumCenter[1][0].keys()))\n",
    "print(list(quantinuumCenter[1][0].values()))\n",
    "print(quantinuumCenter[1][1])"
   ],
   "metadata": {
    "collapsed": false,
    "pycharm": {
     "name": "#%%\n"
    }
   }
  },
  {
   "cell_type": "code",
   "execution_count": 106,
   "outputs": [
    {
     "name": "stdout",
     "output_type": "stream",
     "text": [
      "-1.0114785814623894 0.004232223411403529\n"
     ]
    }
   ],
   "source": [
    "random.seed(a=1651464000)\n",
    "trials = 10\n",
    "guesses = [-4, -1, 1, 4]\n",
    "centers = [[], [], [], []]\n",
    "deviations = [[], [], [], []]\n",
    "for i in range(trials):\n",
    "    tempData = [0, 0]\n",
    "    for index, passData in enumerate(quantinuumCenter):\n",
    "        if index == 1:\n",
    "            tempData[0] = list(passData[0].keys())\n",
    "            tempData[1] = make_noisy(list(passData[0].values()), passData[1])\n",
    "            # print(tempData)\n",
    "            centers[index].append(find_single_peak(tempData[0], tempData[1], guesses[index], 32, 5, printResults=False)[0])\n",
    "            deviations[index].append(find_single_peak(tempData[0], tempData[1], guesses[index], 32, 5, printResults=False)[1])\n",
    "print(np.average(centers[1]), np.average(deviations[1]))"
   ],
   "metadata": {
    "collapsed": false,
    "pycharm": {
     "name": "#%%\n"
    }
   }
  },
  {
   "cell_type": "code",
   "execution_count": 107,
   "outputs": [
    {
     "name": "stdout",
     "output_type": "stream",
     "text": [
      "[[Model]]\n",
      "    (Model(constant) + Model(gaussian, prefix='peak0_'))\n",
      "[[Fit Statistics]]\n",
      "    # fitting method   = Nelder-Mead\n",
      "    # function evals   = 147\n",
      "    # data points      = 22\n",
      "    # variables        = 3\n",
      "    chi-square         = 42125.5325\n",
      "    reduced chi-square = 2217.13329\n",
      "    Akaike info crit   = 172.262071\n",
      "    Bayesian info crit = 175.535198\n",
      "[[Variables]]\n",
      "    c:                32 (fixed)\n",
      "    peak0_amplitude:  14.0000000 +/- 1.4244e-04 (0.00%) (init = 25)\n",
      "    peak0_center:    -1.01005353 +/- 0.00372236 (0.37%) (init = -1)\n",
      "    peak0_sigma:      0.02406646 +/- 0.00301060 (12.51%) (init = 0.1)\n",
      "    peak0_fwhm:       0.05667219 +/- 0.00708942 (12.51%) == '2.3548200*peak0_sigma'\n",
      "    peak0_height:     232.073673 +/- 29.0313064 (12.51%) == '0.3989423*peak0_amplitude/max(1e-15, peak0_sigma)'\n",
      "[[Correlations]] (unreported correlations are < 0.100)\n",
      "    C(peak0_center, peak0_sigma) = 0.199\n"
     ]
    },
    {
     "data": {
      "text/plain": "<Figure size 432x288 with 1 Axes>",
      "image/png": "[encoded data removed]"
     },
     "metadata": {
      "needs_background": "light"
     },
     "output_type": "display_data"
    },
    {
     "data": {
      "text/plain": "[-1.0100535301392362,\n 0.0037223573932044,\n 0.024066461915815657,\n array([ 32.0025824 ,  32.02426377,  32.17849446,  33.02807211,\n         36.63612049,  48.36884977,  77.24951413, 129.93591538,\n        197.95959368, 252.18871049, 260.72837395, 218.02758422,\n        150.4586992 ,  91.05937975,  55.05383142,  39.04578934,\n         33.6859648 ,  32.31586366,  32.04633222,  32.00532107,\n         32.00047846,  32.00003368]),\n {'peak0_amplitude': 14.000000004470259,\n  'peak0_center': -1.0100535301392362,\n  'peak0_sigma': 0.024066461915815657,\n  'c': 32}]"
     },
     "execution_count": 107,
     "metadata": {},
     "output_type": "execute_result"
    }
   ],
   "source": [
    "find_single_peak(list(quantinuum[1].keys()), list(quantinuum[1].values()), -1, 32, 5, printResults=True)"
   ],
   "metadata": {
    "collapsed": false,
    "pycharm": {
     "name": "#%%\n"
    }
   }
  }
 ],
 "metadata": {
  "kernelspec": {
   "display_name": "Python 3",
   "language": "python",
   "name": "python3"
  },
  "language_info": {
   "codemirror_mode": {
    "name": "ipython",
    "version": 2
   },
   "file_extension": ".py",
   "mimetype": "text/x-python",
   "name": "python",
   "nbconvert_exporter": "python",
   "pygments_lexer": "ipython2",
   "version": "2.7.6"
  }
 },
 "nbformat": 4,
 "nbformat_minor": 0
}